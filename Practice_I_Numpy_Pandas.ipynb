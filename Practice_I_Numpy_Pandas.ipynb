{
 "cells": [
  {
   "cell_type": "markdown",
   "metadata": {
    "id": "gB01Gf43ameL"
   },
   "source": [
    "### 1. Numpy"
   ]
  },
  {
   "cell_type": "code",
   "execution_count": null,
   "metadata": {},
   "outputs": [],
   "source": [
    "import numpy"
   ]
  },
  {
   "cell_type": "markdown",
   "metadata": {
    "id": "UFcQJs6d7eQU"
   },
   "source": [
    "#### 1.1 Create a vector (array) with the first 20 natural numbers and reshape the array to form a 4 row and 5 column matrix."
   ]
  },
  {
   "cell_type": "code",
   "execution_count": null,
   "metadata": {
    "id": "J6brZhuhbJgK"
   },
   "outputs": [],
   "source": []
  },
  {
   "cell_type": "markdown",
   "metadata": {
    "id": "9q7lHmmo7eQX"
   },
   "source": [
    "#### 1.2 Add the first number of the second row to all the numbers of the last column."
   ]
  },
  {
   "cell_type": "code",
   "execution_count": null,
   "metadata": {
    "id": "LwmjSUdKbKsH"
   },
   "outputs": [],
   "source": []
  },
  {
   "cell_type": "markdown",
   "metadata": {
    "id": "8RnymmSj7eQY"
   },
   "source": [
    "#### 1.3 Create a vector with values from 10 to 49 and invert the vector without using the function \"flip\"."
   ]
  },
  {
   "cell_type": "code",
   "execution_count": null,
   "metadata": {
    "id": "p0SfSXJcbLN6"
   },
   "outputs": [],
   "source": []
  },
  {
   "cell_type": "markdown",
   "metadata": {
    "id": "b3HbhVBo7eQZ"
   },
   "source": [
    "#### 1.4 Create a 5x5 matrix and fill it with the pattern of a chess board: 0 = black, 1 = white\n",
    "<img src =\"https://upload.wikimedia.org/wikipedia/commons/thumb/7/70/Checkerboard_pattern.svg/500px-Checkerboard_pattern.svg.png\">\n"
   ]
  },
  {
   "cell_type": "code",
   "execution_count": null,
   "metadata": {
    "id": "rzayQf2CbMRH"
   },
   "outputs": [],
   "source": []
  },
  {
   "cell_type": "markdown",
   "metadata": {
    "id": "JNgiIf-_7eQb"
   },
   "source": [
    "#### 1.5 Create a 5x5 matrix with values from 0 to 5. Use the function \"arange\"."
   ]
  },
  {
   "cell_type": "code",
   "execution_count": null,
   "metadata": {
    "id": "V7mrRej6bNtv"
   },
   "outputs": [],
   "source": []
  },
  {
   "cell_type": "markdown",
   "metadata": {
    "id": "KJxPehzZ7eQc"
   },
   "source": [
    "#### 1.6 Create a vector of 10 random numbers and order in descending order."
   ]
  },
  {
   "cell_type": "code",
   "execution_count": null,
   "metadata": {
    "id": "0kQOOim2bOHj"
   },
   "outputs": [],
   "source": []
  },
  {
   "cell_type": "markdown",
   "metadata": {
    "id": "HogCtm1QbPfA"
   },
   "source": [
    "### 2. Pandas"
   ]
  },
  {
   "cell_type": "markdown",
   "metadata": {
    "id": "M1erjzDobXuZ"
   },
   "source": [
    "#### 2.1 Import the required libraries\n",
    "\n",
    "Help: https://pandas.pydata.org/docs/getting_started/index.html#getting-started"
   ]
  },
  {
   "cell_type": "code",
   "execution_count": null,
   "metadata": {
    "id": "Z54p3ro3bW8J"
   },
   "outputs": [],
   "source": []
  },
  {
   "cell_type": "markdown",
   "metadata": {
    "id": "-q6xfEd5bpmF"
   },
   "source": [
    "#### 2.2 Import the dataset from: https://raw.githubusercontent.com/justmarkham/DAT8/master/data/chipotle.tsv and call the dataframe \"chipo\"."
   ]
  },
  {
   "cell_type": "code",
   "execution_count": null,
   "metadata": {
    "id": "C0RLBH1zbpE0"
   },
   "outputs": [],
   "source": []
  },
  {
   "cell_type": "markdown",
   "metadata": {
    "id": "a91xJ3KTdXUx"
   },
   "source": [
    "#### 2.3 Which is the price of each item?\n",
    "*print a dataframe with just two columns: item_name e item_price"
   ]
  },
  {
   "cell_type": "code",
   "execution_count": null,
   "metadata": {
    "id": "3GNLnHNUdq0y"
   },
   "outputs": [],
   "source": []
  },
  {
   "cell_type": "markdown",
   "metadata": {
    "id": "8QncDclidvc1"
   },
   "source": [
    "#### 2.4 Order the dataframe by the name of the items"
   ]
  },
  {
   "cell_type": "code",
   "execution_count": null,
   "metadata": {
    "id": "WeD-Ae0Ld3ON"
   },
   "outputs": [],
   "source": []
  },
  {
   "cell_type": "markdown",
   "metadata": {
    "id": "HKe19i1UeQ1R"
   },
   "source": [
    "#### 2.5 Which is the ordered quantity of the most expensive item?"
   ]
  },
  {
   "cell_type": "code",
   "execution_count": null,
   "metadata": {
    "id": "O3OvtjDbeRq_"
   },
   "outputs": [],
   "source": []
  },
  {
   "cell_type": "markdown",
   "metadata": {
    "id": "8xh_6nfjd2Mv"
   },
   "source": [
    "#### 2.6 How many veggan salads have been ordered?"
   ]
  },
  {
   "cell_type": "code",
   "execution_count": null,
   "metadata": {
    "id": "3su89ON0d1_b"
   },
   "outputs": [],
   "source": []
  }
 ],
 "metadata": {
  "colab": {
   "name": "Practice_I_Numpy_Pandas.ipynb",
   "provenance": [
    {
     "file_id": "1G1Zqk_cHKzRPo3a5F4TQXpynW3P5mKoa",
     "timestamp": 1643637043947
    }
   ]
  },
  "kernelspec": {
   "display_name": "Python 3 (ipykernel)",
   "language": "python",
   "name": "python3"
  },
  "language_info": {
   "codemirror_mode": {
    "name": "ipython",
    "version": 3
   },
   "file_extension": ".py",
   "mimetype": "text/x-python",
   "name": "python",
   "nbconvert_exporter": "python",
   "pygments_lexer": "ipython3",
   "version": "3.9.7"
  }
 },
 "nbformat": 4,
 "nbformat_minor": 1
}
